{
 "cells": [
  {
   "cell_type": "markdown",
   "metadata": {},
   "source": [
    "# Polynomial Regression - Lab"
   ]
  },
  {
   "cell_type": "markdown",
   "metadata": {},
   "source": [
    "## Introduction"
   ]
  },
  {
   "cell_type": "markdown",
   "metadata": {},
   "source": [
    "In this lab, you'll practice your knowledge on adding polynomial terms to your regression model! "
   ]
  },
  {
   "cell_type": "markdown",
   "metadata": {},
   "source": [
    "## Objectives"
   ]
  },
  {
   "cell_type": "markdown",
   "metadata": {},
   "source": [
    "You will be able to:\n",
    "\n",
    "* Determine if polynomial regression would be useful for a specific model or set of data\n",
    "* Create polynomial terms out of independent variables in linear regression"
   ]
  },
  {
   "cell_type": "markdown",
   "metadata": {},
   "source": [
    "## Dataset"
   ]
  },
  {
   "cell_type": "markdown",
   "metadata": {},
   "source": [
    "For this lab you'll be using some generated data:"
   ]
  },
  {
   "cell_type": "code",
   "execution_count": 1,
   "metadata": {},
   "outputs": [
    {
     "data": {
      "text/html": [
       "<div>\n",
       "<style scoped>\n",
       "    .dataframe tbody tr th:only-of-type {\n",
       "        vertical-align: middle;\n",
       "    }\n",
       "\n",
       "    .dataframe tbody tr th {\n",
       "        vertical-align: top;\n",
       "    }\n",
       "\n",
       "    .dataframe thead th {\n",
       "        text-align: right;\n",
       "    }\n",
       "</style>\n",
       "<table border=\"1\" class=\"dataframe\">\n",
       "  <thead>\n",
       "    <tr style=\"text-align: right;\">\n",
       "      <th></th>\n",
       "      <th>x</th>\n",
       "      <th>y</th>\n",
       "    </tr>\n",
       "  </thead>\n",
       "  <tbody>\n",
       "    <tr>\n",
       "      <th>0</th>\n",
       "      <td>0.000000</td>\n",
       "      <td>0.942870</td>\n",
       "    </tr>\n",
       "    <tr>\n",
       "      <th>1</th>\n",
       "      <td>0.121212</td>\n",
       "      <td>-2.261629</td>\n",
       "    </tr>\n",
       "    <tr>\n",
       "      <th>2</th>\n",
       "      <td>0.242424</td>\n",
       "      <td>3.100749</td>\n",
       "    </tr>\n",
       "    <tr>\n",
       "      <th>3</th>\n",
       "      <td>0.363636</td>\n",
       "      <td>-0.285446</td>\n",
       "    </tr>\n",
       "    <tr>\n",
       "      <th>4</th>\n",
       "      <td>0.484848</td>\n",
       "      <td>-1.012210</td>\n",
       "    </tr>\n",
       "  </tbody>\n",
       "</table>\n",
       "</div>"
      ],
      "text/plain": [
       "          x         y\n",
       "0  0.000000  0.942870\n",
       "1  0.121212 -2.261629\n",
       "2  0.242424  3.100749\n",
       "3  0.363636 -0.285446\n",
       "4  0.484848 -1.012210"
      ]
     },
     "execution_count": 1,
     "metadata": {},
     "output_type": "execute_result"
    }
   ],
   "source": [
    "# Run this cell without changes\n",
    "import numpy as np\n",
    "import pandas as pd\n",
    "import matplotlib.pyplot as plt\n",
    "%matplotlib inline\n",
    "\n",
    "df = pd.read_csv('sample_data.csv')\n",
    "df.head()"
   ]
  },
  {
   "cell_type": "markdown",
   "metadata": {},
   "source": [
    "Let's check out a scatter plot of `x` vs. `y`: "
   ]
  },
  {
   "cell_type": "code",
   "execution_count": 2,
   "metadata": {},
   "outputs": [
    {
     "data": {
      "image/png": "[encoded data removed]",
      "text/plain": [
       "<Figure size 432x288 with 1 Axes>"
      ]
     },
     "metadata": {
      "needs_background": "light"
     },
     "output_type": "display_data"
    }
   ],
   "source": [
    "# Run this cell without changes\n",
    "df.plot.scatter(x=\"x\", y=\"y\");"
   ]
  },
  {
   "cell_type": "markdown",
   "metadata": {},
   "source": [
    "You will notice that the data is clearly of non-linear shape. Begin to think about what degree polynomial you believe will fit it best.\n",
    "\n",
    "You will fit several different models with different polynomial degrees, then plot them in the same plot at the end."
   ]
  },
  {
   "cell_type": "code",
   "execution_count": 5,
   "metadata": {},
   "outputs": [],
   "source": [
    "# Your code here - import StatsModels and separate the data into X and y\n",
    "import statsmodels.api as sm\n",
    "X = df[[\"x\"]]\n",
    "y = df[\"y\"]"
   ]
  },
  {
   "cell_type": "markdown",
   "metadata": {},
   "source": [
    "## Build and Evaluate a Quadratic Model\n",
    "\n",
    "This model should include a constant, `x`, and `x` squared. You can use `pandas` or `PolynomialFeatures` to create the squared term."
   ]
  },
  {
   "cell_type": "code",
   "execution_count": 6,
   "metadata": {},
   "outputs": [
    {
     "name": "stdout",
     "output_type": "stream",
     "text": [
      "                            OLS Regression Results                            \n",
      "==============================================================================\n",
      "Dep. Variable:                      y   R-squared:                       0.005\n",
      "Model:                            OLS   Adj. R-squared:                 -0.016\n",
      "Method:                 Least Squares   F-statistic:                    0.2366\n",
      "Date:                Tue, 13 May 2025   Prob (F-statistic):              0.790\n",
      "Time:                        17:38:47   Log-Likelihood:                -299.64\n",
      "No. Observations:                 100   AIC:                             605.3\n",
      "Df Residuals:                      97   BIC:                             613.1\n",
      "Df Model:                           2                                         \n",
      "Covariance Type:            nonrobust                                         \n",
      "==============================================================================\n",
      "                 coef    std err          t      P>|t|      [0.025      0.975]\n",
      "------------------------------------------------------------------------------\n",
      "const          0.1127      1.446      0.078      0.938      -2.757       2.983\n",
      "x             -0.0744      0.557     -0.134      0.894      -1.180       1.031\n",
      "x_squared     -0.0018      0.045     -0.041      0.967      -0.091       0.087\n",
      "==============================================================================\n",
      "Omnibus:                        1.048   Durbin-Watson:                   0.426\n",
      "Prob(Omnibus):                  0.592   Jarque-Bera (JB):                0.803\n",
      "Skew:                          -0.219   Prob(JB):                        0.669\n",
      "Kurtosis:                       3.037   Cond. No.                         203.\n",
      "==============================================================================\n",
      "\n",
      "Notes:\n",
      "[1] Standard Errors assume that the covariance matrix of the errors is correctly specified.\n"
     ]
    },
    {
     "data": {
      "image/png": "[encoded data removed]",
      "text/plain": [
       "<Figure size 720x432 with 1 Axes>"
      ]
     },
     "metadata": {
      "needs_background": "light"
     },
     "output_type": "display_data"
    }
   ],
   "source": [
    "# Your code here - prepare quadratic data and fit a model\n",
    "# Example: Assuming 'df' is your DataFrame, and 'x' is your independent variable\n",
    "X = df['x']  # Independent variable\n",
    "y = df['y']  # Dependent variable\n",
    "\n",
    "# Create the squared term (x^2)\n",
    "X_squared = X ** 2\n",
    "\n",
    "# Create a new DataFrame that includes the original 'x' and the squared term 'x^2'\n",
    "X_quad = pd.DataFrame({'x': X, 'x_squared': X_squared})\n",
    "\n",
    "# Add a constant term for the intercept (required for statsmodels)\n",
    "X_quad = sm.add_constant(X_quad)  # Adds a constant column with value 1\n",
    "# Fit the model using Ordinary Least Squares (OLS) regression\n",
    "model = sm.OLS(y, X_quad).fit()\n",
    "\n",
    "# Display the model summary\n",
    "print(model.summary())\n",
    "\n",
    "# Generate predictions using the fitted model\n",
    "y_pred = model.predict(X_quad)\n",
    "\n",
    "# Plot the original data and the fitted quadratic model\n",
    "plt.figure(figsize=(10, 6))\n",
    "plt.scatter(X, y, color='black', label='Original Data')  # Scatter plot of the original data\n",
    "plt.plot(X, y_pred, color='red', label='Fitted Quadratic Model')  # Quadratic fit\n",
    "plt.xlabel('X')\n",
    "plt.ylabel('y')\n",
    "plt.title('Quadratic Model Fit')\n",
    "plt.legend()\n",
    "plt.show()\n"
   ]
  },
  {
   "cell_type": "code",
   "execution_count": 9,
   "metadata": {},
   "outputs": [
    {
     "name": "stdout",
     "output_type": "stream",
     "text": [
      "Adjusted R-Squared: -0.0157\n",
      "P-values for each coefficient:\n",
      "const        0.938055\n",
      "x            0.893974\n",
      "x_squared    0.967420\n",
      "dtype: float64\n",
      "                            OLS Regression Results                            \n",
      "==============================================================================\n",
      "Dep. Variable:                      y   R-squared:                       0.005\n",
      "Model:                            OLS   Adj. R-squared:                 -0.016\n",
      "Method:                 Least Squares   F-statistic:                    0.2366\n",
      "Date:                Tue, 13 May 2025   Prob (F-statistic):              0.790\n",
      "Time:                        17:41:21   Log-Likelihood:                -299.64\n",
      "No. Observations:                 100   AIC:                             605.3\n",
      "Df Residuals:                      97   BIC:                             613.1\n",
      "Df Model:                           2                                         \n",
      "Covariance Type:            nonrobust                                         \n",
      "==============================================================================\n",
      "                 coef    std err          t      P>|t|      [0.025      0.975]\n",
      "------------------------------------------------------------------------------\n",
      "const          0.1127      1.446      0.078      0.938      -2.757       2.983\n",
      "x             -0.0744      0.557     -0.134      0.894      -1.180       1.031\n",
      "x_squared     -0.0018      0.045     -0.041      0.967      -0.091       0.087\n",
      "==============================================================================\n",
      "Omnibus:                        1.048   Durbin-Watson:                   0.426\n",
      "Prob(Omnibus):                  0.592   Jarque-Bera (JB):                0.803\n",
      "Skew:                          -0.219   Prob(JB):                        0.669\n",
      "Kurtosis:                       3.037   Cond. No.                         203.\n",
      "==============================================================================\n",
      "\n",
      "Notes:\n",
      "[1] Standard Errors assume that the covariance matrix of the errors is correctly specified.\n"
     ]
    }
   ],
   "source": [
    "# Your code here - evaluate (adjusted) R-Squared and coefficient p-values\n",
    "import numpy as np\n",
    "import pandas as pd\n",
    "import statsmodels.api as sm\n",
    "\n",
    "# Assuming 'df' contains the data\n",
    "X = df['x']  # Independent variable\n",
    "y = df['y']  # Dependent variable\n",
    "\n",
    "# Create the squared term (x^2)\n",
    "X_squared = X ** 2\n",
    "\n",
    "# Create a new DataFrame that includes the original 'x' and the squared term 'x^2'\n",
    "X_quad = pd.DataFrame({'x': X, 'x_squared': X_squared})\n",
    "\n",
    "# Add a constant term for the intercept (required for statsmodels)\n",
    "X_quad = sm.add_constant(X_quad)  # Adds a constant column with value 1\n",
    "\n",
    "# Fit the model using Ordinary Least Squares (OLS) regression\n",
    "model = sm.OLS(y, X_quad).fit()\n",
    "\n",
    "# Get the Adjusted R-Squared\n",
    "adjusted_r_squared = model.rsquared_adj\n",
    "print(f'Adjusted R-Squared: {adjusted_r_squared:.4f}')\n",
    "\n",
    "# Get the p-values for each coefficient\n",
    "p_values = model.pvalues\n",
    "print(f'P-values for each coefficient:\\n{p_values}')\n",
    "\n",
    "# Display the full model summary for more details\n",
    "print(model.summary())\n"
   ]
  },
  {
   "cell_type": "code",
   "execution_count": 8,
   "metadata": {},
   "outputs": [],
   "source": [
    "# Your written answer here - summarize findings\n",
    "# Adjusted R-Squared: A higher value indicates a better fit, with adjustments for the number of predictors. An R-squared close to 1 suggests a good fit.\n",
    "\n",
    "# p-values: For each coefficient, you’ll see p-values like:\n",
    "\n",
    "# Constant: p-value associated with the intercept.\n",
    "\n",
    "# x: p-value for the linear term of x.\n",
    "\n",
    "# x_squared: p-value for the quadratic term x^2."
   ]
  },
  {
   "cell_type": "markdown",
   "metadata": {},
   "source": [
    "<details>\n",
    "    <summary style=\"cursor: pointer\"><b>Answer (click to reveal)</b></summary>\n",
    "    \n",
    "This is not a good model. Because we have multiple terms and are explaining so little of the variance in `y`, we actually have a negative adjusted R-Squared.\n",
    "\n",
    "None of the coefficients are statistically significant at an alpha of 0.05\n",
    "    \n",
    "</details>"
   ]
  },
  {
   "cell_type": "markdown",
   "metadata": {},
   "source": [
    "## Build and Evaluate a 4th Degree Polynomial Model\n",
    "\n",
    "In other words, the model should include $x^0$ (intercept), $x^1$, $x^2$, $x^3$, and $x^4$ terms.\n",
    "\n",
    "At this point we recommend importing and using `PolynomialFeatures` if you haven't already!"
   ]
  },
  {
   "cell_type": "code",
   "execution_count": 10,
   "metadata": {},
   "outputs": [
    {
     "name": "stdout",
     "output_type": "stream",
     "text": [
      "R-squared: 0.5843\n",
      "Coefficients: [  0.         -12.64064681   5.38017823  -0.75634487   0.0332654 ]\n"
     ]
    },
    {
     "data": {
      "image/png": "[encoded data removed]",
      "text/plain": [
       "<Figure size 720x432 with 1 Axes>"
      ]
     },
     "metadata": {
      "needs_background": "light"
     },
     "output_type": "display_data"
    },
    {
     "name": "stdout",
     "output_type": "stream",
     "text": [
      "                            OLS Regression Results                            \n",
      "==============================================================================\n",
      "Dep. Variable:                      y   R-squared:                       0.584\n",
      "Model:                            OLS   Adj. R-squared:                  0.567\n",
      "Method:                 Least Squares   F-statistic:                     33.38\n",
      "Date:                Tue, 13 May 2025   Prob (F-statistic):           2.24e-17\n",
      "Time:                        17:47:44   Log-Likelihood:                -255.99\n",
      "No. Observations:                 100   AIC:                             522.0\n",
      "Df Residuals:                      95   BIC:                             535.0\n",
      "Df Model:                           4                                         \n",
      "Covariance Type:            nonrobust                                         \n",
      "==============================================================================\n",
      "                 coef    std err          t      P>|t|      [0.025      0.975]\n",
      "------------------------------------------------------------------------------\n",
      "const          5.8590      1.514      3.870      0.000       2.853       8.864\n",
      "x1           -12.6406      1.767     -7.155      0.000     -16.148      -9.133\n",
      "x2             5.3802      0.603      8.921      0.000       4.183       6.577\n",
      "x3            -0.7563      0.076     -9.992      0.000      -0.907      -0.606\n",
      "x4             0.0333      0.003     10.632      0.000       0.027       0.039\n",
      "==============================================================================\n",
      "Omnibus:                        1.211   Durbin-Watson:                   1.007\n",
      "Prob(Omnibus):                  0.546   Jarque-Bera (JB):                1.177\n",
      "Skew:                          -0.257   Prob(JB):                        0.555\n",
      "Kurtosis:                       2.861   Cond. No.                     5.08e+04\n",
      "==============================================================================\n",
      "\n",
      "Notes:\n",
      "[1] Standard Errors assume that the covariance matrix of the errors is correctly specified.\n",
      "[2] The condition number is large, 5.08e+04. This might indicate that there are\n",
      "strong multicollinearity or other numerical problems.\n"
     ]
    }
   ],
   "source": [
    "# Your code here - prepare 4th degree polynomial data and fit a model\n",
    "import numpy as np\n",
    "import pandas as pd\n",
    "import matplotlib.pyplot as plt\n",
    "from sklearn.preprocessing import PolynomialFeatures\n",
    "from sklearn.linear_model import LinearRegression\n",
    "import statsmodels.api as sm\n",
    "\n",
    "# Assuming 'df' contains the data with 'x' as the independent variable\n",
    "X = df['x'].values.reshape(-1, 1)  # Reshape to 2D array for sklearn compatibility\n",
    "y = df['y'].values  # Dependent variable\n",
    "\n",
    "# Initialize PolynomialFeatures with degree 4\n",
    "poly = PolynomialFeatures(degree=4)\n",
    "\n",
    "# Transform the independent variable to include polynomial features\n",
    "X_poly = poly.fit_transform(X)\n",
    "\n",
    "# Fit the model using LinearRegression\n",
    "model = LinearRegression()\n",
    "model.fit(X_poly, y)\n",
    "\n",
    "# Evaluate the model: R-squared and coefficients\n",
    "r_squared = model.score(X_poly, y)\n",
    "print(f'R-squared: {r_squared:.4f}')\n",
    "print(f'Coefficients: {model.coef_}')\n",
    "\n",
    "# Generate predictions for the polynomial model\n",
    "y_poly_pred = model.predict(X_poly)\n",
    "\n",
    "# Plot the original data and the fitted polynomial model\n",
    "plt.figure(figsize=(10, 6))\n",
    "plt.scatter(X, y, color='black', label='Original Data')\n",
    "plt.plot(X, y_poly_pred, color='red', label='Fitted Polynomial Model (Degree 4)')\n",
    "plt.xlabel('X')\n",
    "plt.ylabel('y')\n",
    "plt.title('4th Degree Polynomial Model Fit')\n",
    "plt.legend()\n",
    "plt.show()\n",
    "\n",
    "# Optional: For more detailed statistical analysis using statsmodels\n",
    "X_poly_sm = sm.add_constant(X_poly)  # Adds a constant column for the intercept\n",
    "sm_model = sm.OLS(y, X_poly_sm).fit()\n",
    "print(sm_model.summary())\n"
   ]
  },
  {
   "cell_type": "code",
   "execution_count": 11,
   "metadata": {},
   "outputs": [
    {
     "name": "stdout",
     "output_type": "stream",
     "text": [
      "R-squared: 0.5843\n",
      "Coefficients: [  0.         -12.64064681   5.38017823  -0.75634487   0.0332654 ]\n"
     ]
    },
    {
     "data": {
      "image/png": "[encoded data removed]",
      "text/plain": [
       "<Figure size 720x432 with 1 Axes>"
      ]
     },
     "metadata": {
      "needs_background": "light"
     },
     "output_type": "display_data"
    },
    {
     "name": "stdout",
     "output_type": "stream",
     "text": [
      "                            OLS Regression Results                            \n",
      "==============================================================================\n",
      "Dep. Variable:                      y   R-squared:                       0.584\n",
      "Model:                            OLS   Adj. R-squared:                  0.567\n",
      "Method:                 Least Squares   F-statistic:                     33.38\n",
      "Date:                Tue, 13 May 2025   Prob (F-statistic):           2.24e-17\n",
      "Time:                        17:49:19   Log-Likelihood:                -255.99\n",
      "No. Observations:                 100   AIC:                             522.0\n",
      "Df Residuals:                      95   BIC:                             535.0\n",
      "Df Model:                           4                                         \n",
      "Covariance Type:            nonrobust                                         \n",
      "==============================================================================\n",
      "                 coef    std err          t      P>|t|      [0.025      0.975]\n",
      "------------------------------------------------------------------------------\n",
      "const          5.8590      1.514      3.870      0.000       2.853       8.864\n",
      "x1           -12.6406      1.767     -7.155      0.000     -16.148      -9.133\n",
      "x2             5.3802      0.603      8.921      0.000       4.183       6.577\n",
      "x3            -0.7563      0.076     -9.992      0.000      -0.907      -0.606\n",
      "x4             0.0333      0.003     10.632      0.000       0.027       0.039\n",
      "==============================================================================\n",
      "Omnibus:                        1.211   Durbin-Watson:                   1.007\n",
      "Prob(Omnibus):                  0.546   Jarque-Bera (JB):                1.177\n",
      "Skew:                          -0.257   Prob(JB):                        0.555\n",
      "Kurtosis:                       2.861   Cond. No.                     5.08e+04\n",
      "==============================================================================\n",
      "\n",
      "Notes:\n",
      "[1] Standard Errors assume that the covariance matrix of the errors is correctly specified.\n",
      "[2] The condition number is large, 5.08e+04. This might indicate that there are\n",
      "strong multicollinearity or other numerical problems.\n",
      "Adjusted R-Squared: 0.5668\n",
      "P-values for each coefficient:\n",
      "[1.99504703e-04 1.73898820e-10 3.34029576e-14 1.71578542e-16\n",
      " 7.40845277e-18]\n"
     ]
    }
   ],
   "source": [
    "# Your code here - evaluate (adjusted) R-Squared and coefficient p-values\n",
    "import numpy as np\n",
    "import pandas as pd\n",
    "import matplotlib.pyplot as plt\n",
    "from sklearn.preprocessing import PolynomialFeatures\n",
    "from sklearn.linear_model import LinearRegression\n",
    "import statsmodels.api as sm\n",
    "\n",
    "# Assuming 'df' contains the data with 'x' as the independent variable\n",
    "X = df['x'].values.reshape(-1, 1)  # Reshape to 2D array for sklearn compatibility\n",
    "y = df['y'].values  # Dependent variable\n",
    "\n",
    "# Initialize PolynomialFeatures with degree 4\n",
    "poly = PolynomialFeatures(degree=4)\n",
    "\n",
    "# Transform the independent variable to include polynomial features\n",
    "X_poly = poly.fit_transform(X)\n",
    "\n",
    "# Fit the model using LinearRegression\n",
    "model = LinearRegression()\n",
    "model.fit(X_poly, y)\n",
    "\n",
    "# Evaluate the model: R-squared and coefficients\n",
    "r_squared = model.score(X_poly, y)\n",
    "print(f'R-squared: {r_squared:.4f}')\n",
    "print(f'Coefficients: {model.coef_}')\n",
    "\n",
    "# Generate predictions for the polynomial model\n",
    "y_poly_pred = model.predict(X_poly)\n",
    "\n",
    "# Plot the original data and the fitted polynomial model\n",
    "plt.figure(figsize=(10, 6))\n",
    "plt.scatter(X, y, color='black', label='Original Data')\n",
    "plt.plot(X, y_poly_pred, color='red', label='Fitted Polynomial Model (Degree 4)')\n",
    "plt.xlabel('X')\n",
    "plt.ylabel('y')\n",
    "plt.title('4th Degree Polynomial Model Fit')\n",
    "plt.legend()\n",
    "plt.show()\n",
    "\n",
    "# Add a constant for the intercept term (required by statsmodels)\n",
    "X_poly_sm = sm.add_constant(X_poly)  # Adds a constant column for the intercept\n",
    "\n",
    "# Fit the model using Ordinary Least Squares (OLS) regression from statsmodels\n",
    "sm_model = sm.OLS(y, X_poly_sm).fit()\n",
    "\n",
    "# Display the model summary for detailed evaluation\n",
    "print(sm_model.summary())\n",
    "\n",
    "# Get Adjusted R-Squared\n",
    "adjusted_r_squared = sm_model.rsquared_adj\n",
    "print(f'Adjusted R-Squared: {adjusted_r_squared:.4f}')\n",
    "\n",
    "# Get p-values for each coefficient\n",
    "p_values = sm_model.pvalues\n",
    "print(f'P-values for each coefficient:\\n{p_values}')\n"
   ]
  },
  {
   "cell_type": "code",
   "execution_count": 12,
   "metadata": {},
   "outputs": [],
   "source": [
    "# Your written answer here - summarize findings\n",
    "\n",
    "# This is much better. We are explaining 57-58% of the variance in the target and all of our coefficients are statistically significant at an alpha of 0.05."
   ]
  },
  {
   "cell_type": "markdown",
   "metadata": {},
   "source": [
    "<details>\n",
    "    <summary style=\"cursor: pointer\"><b>Answer (click to reveal)</b></summary>\n",
    "    \n",
    "This is much better. We are explaining 57-58% of the variance in the target and all of our coefficients are statistically significant at an alpha of 0.05.\n",
    "    \n",
    "</details>"
   ]
  },
  {
   "cell_type": "markdown",
   "metadata": {},
   "source": [
    "## Build and Evaluate an 8th Degree Polynomial Model\n",
    "\n",
    "This model should include $x^0$ through $x^8$."
   ]
  },
  {
   "cell_type": "code",
   "execution_count": 13,
   "metadata": {},
   "outputs": [],
   "source": [
    "# Your code here - prepare 8th degree polynomial data and fit a model\n",
    "import numpy as np\n",
    "import pandas as pd\n",
    "import matplotlib.pyplot as plt\n",
    "from sklearn.preprocessing import PolynomialFeatures\n",
    "from sklearn.linear_model import LinearRegression\n",
    "import statsmodels.api as sm\n",
    "\n",
    "# Assuming 'df' contains the data with 'x' as the independent variable\n",
    "X = df['x'].values.reshape(-1, 1)  # Reshape to 2D array for sklearn compatibility\n",
    "y = df['y'].values  # Dependent variable\n",
    "\n",
    "# Initialize PolynomialFeatures with degree 8 (for x^0, x^1, ..., x^8 terms)\n",
    "poly = PolynomialFeatures(degree=8)\n",
    "\n",
    "# Transform the independent variable to include polynomial features\n",
    "X_poly = poly.fit_transform(X)\n",
    "\n",
    "# Fit the model using LinearRegression\n"
   ]
  },
  {
   "cell_type": "code",
   "execution_count": 14,
   "metadata": {},
   "outputs": [
    {
     "name": "stdout",
     "output_type": "stream",
     "text": [
      "R-squared: 0.8335\n",
      "Coefficients:\n",
      "[ 0.00000000e+00 -3.11970716e+00  7.20689517e+00 -5.95149419e+00\n",
      "  2.04150409e+00 -3.35904440e-01  2.76389476e-02 -1.06291434e-03\n",
      "  1.41845466e-05]\n",
      "                            OLS Regression Results                            \n",
      "==============================================================================\n",
      "Dep. Variable:                      y   R-squared:                       0.834\n",
      "Model:                            OLS   Adj. R-squared:                  0.819\n",
      "Method:                 Least Squares   F-statistic:                     56.95\n",
      "Date:                Tue, 13 May 2025   Prob (F-statistic):           3.93e-32\n",
      "Time:                        17:54:04   Log-Likelihood:                -210.25\n",
      "No. Observations:                 100   AIC:                             438.5\n",
      "Df Residuals:                      91   BIC:                             461.9\n",
      "Df Model:                           8                                         \n",
      "Covariance Type:            nonrobust                                         \n",
      "==============================================================================\n",
      "                 coef    std err          t      P>|t|      [0.025      0.975]\n",
      "------------------------------------------------------------------------------\n",
      "const          0.6335      1.550      0.409      0.684      -2.446       3.713\n",
      "x1            -3.1197      6.237     -0.500      0.618     -15.508       9.269\n",
      "x2             7.2069      8.019      0.899      0.371      -8.722      23.135\n",
      "x3            -5.9515      4.602     -1.293      0.199     -15.092       3.189\n",
      "x4             2.0415      1.388      1.471      0.145      -0.716       4.799\n",
      "x5            -0.3359      0.236     -1.425      0.158      -0.804       0.132\n",
      "x6             0.0276      0.023      1.220      0.226      -0.017       0.073\n",
      "x7            -0.0011      0.001     -0.925      0.357      -0.003       0.001\n",
      "x8          1.418e-05   2.39e-05      0.594      0.554   -3.33e-05    6.16e-05\n",
      "==============================================================================\n",
      "Omnibus:                       11.607   Durbin-Watson:                   2.456\n",
      "Prob(Omnibus):                  0.003   Jarque-Bera (JB):               12.576\n",
      "Skew:                          -0.700   Prob(JB):                      0.00186\n",
      "Kurtosis:                       4.030   Cond. No.                     5.83e+09\n",
      "==============================================================================\n",
      "\n",
      "Notes:\n",
      "[1] Standard Errors assume that the covariance matrix of the errors is correctly specified.\n",
      "[2] The condition number is large, 5.83e+09. This might indicate that there are\n",
      "strong multicollinearity or other numerical problems.\n",
      "Adjusted R-Squared: 0.8189\n",
      "P-values for each coefficient:\n",
      "[0.68377636 0.61813361 0.3711635  0.19916188 0.14477645 0.15752299\n",
      " 0.22553621 0.35735226 0.55414086]\n"
     ]
    }
   ],
   "source": [
    "# Your code here - evaluate (adjusted) R-Squared and coefficient p-values\n",
    "import numpy as np\n",
    "import pandas as pd\n",
    "import matplotlib.pyplot as plt\n",
    "from sklearn.preprocessing import PolynomialFeatures\n",
    "from sklearn.linear_model import LinearRegression\n",
    "import statsmodels.api as sm\n",
    "\n",
    "# Assuming 'df' contains the data with 'x' as the independent variable\n",
    "X = df['x'].values.reshape(-1, 1)  # Reshape to 2D array for sklearn compatibility\n",
    "y = df['y'].values  # Dependent variable\n",
    "\n",
    "# Initialize PolynomialFeatures with degree 8 (for x^0, x^1, ..., x^8 terms)\n",
    "poly = PolynomialFeatures(degree=8)\n",
    "\n",
    "# Transform the independent variable to include polynomial features\n",
    "X_poly = poly.fit_transform(X)\n",
    "\n",
    "# Fit the model using LinearRegression\n",
    "model = LinearRegression()\n",
    "model.fit(X_poly, y)\n",
    "\n",
    "# Evaluate the model: R-squared (simple measure of fit)\n",
    "r_squared = model.score(X_poly, y)\n",
    "print(f'R-squared: {r_squared:.4f}')\n",
    "\n",
    "# Get the model coefficients (for x^0, x^1, ..., x^8)\n",
    "coefficients = model.coef_\n",
    "print(f'Coefficients:\\n{coefficients}')\n",
    "\n",
    "# Add a constant for the intercept term (required by statsmodels)\n",
    "X_poly_sm = sm.add_constant(X_poly)  # Adds a column of ones for the intercept\n",
    "\n",
    "# Fit the model using Ordinary Least Squares (OLS) regression from statsmodels\n",
    "sm_model = sm.OLS(y, X_poly_sm).fit()\n",
    "\n",
    "# Display the model summary for detailed evaluation\n",
    "print(sm_model.summary())\n",
    "\n",
    "# Get Adjusted R-Squared\n",
    "adjusted_r_squared = sm_model.rsquared_adj\n",
    "print(f'Adjusted R-Squared: {adjusted_r_squared:.4f}')\n",
    "\n",
    "# Get p-values for each coefficient\n",
    "p_values = sm_model.pvalues\n",
    "print(f'P-values for each coefficient:\\n{p_values}')\n"
   ]
  },
  {
   "cell_type": "code",
   "execution_count": 15,
   "metadata": {},
   "outputs": [],
   "source": [
    "# Your written answer here - summarize findings\n",
    "\n",
    "# While the 8th-degree polynomial model achieves a strong R-squared, many terms are not statistically meaningful.\n",
    "\n",
    "# For a balance between accuracy and interpretability, a lower-degree polynomial (e.g., degree 3 or 4) may be more appropriate."
   ]
  },
  {
   "cell_type": "markdown",
   "metadata": {},
   "source": [
    "<details>\n",
    "    <summary style=\"cursor: pointer\"><b>Answer (click to reveal)</b></summary>\n",
    "    \n",
    "Our R-Squared is higher, but none of the coefficients are statistically significant at an alpha of 0.05 any more. If what we care about is an inferential understanding of the data, this is too high a degree of the polynomial.\n",
    "    \n",
    "</details>"
   ]
  },
  {
   "cell_type": "markdown",
   "metadata": {},
   "source": [
    "## Plot All Models\n",
    "\n",
    "Build a single plot that shows the raw data as a scatter plot, as well as all of the models you have developed as line graphs. Make sure that everything is labeled so you can tell the different models apart!"
   ]
  },
  {
   "cell_type": "code",
   "execution_count": 16,
   "metadata": {},
   "outputs": [
    {
     "data": {
      "image/png": "[encoded data removed]",
      "text/plain": [
       "<Figure size 864x432 with 1 Axes>"
      ]
     },
     "metadata": {
      "needs_background": "light"
     },
     "output_type": "display_data"
    }
   ],
   "source": [
    "# Your code here\n",
    "import numpy as np\n",
    "import matplotlib.pyplot as plt\n",
    "from sklearn.preprocessing import PolynomialFeatures\n",
    "from sklearn.linear_model import LinearRegression\n",
    "\n",
    "# Independent (X) and dependent (y) variables\n",
    "X = df['x'].values.reshape(-1, 1)\n",
    "y = df['y'].values\n",
    "\n",
    "# Degrees to plot\n",
    "degrees = [2, 4, 8]\n",
    "colors = ['red', 'green', 'blue']\n",
    "\n",
    "# Plot setup\n",
    "plt.figure(figsize=(12, 6))\n",
    "plt.scatter(X, y, color='black', label='Original Data', alpha=0.7)\n",
    "\n",
    "# Generate a smooth range of x values for plotting the curves\n",
    "x_range = np.linspace(X.min(), X.max(), 500).reshape(-1, 1)\n",
    "\n",
    "# Loop through degrees and plot each model\n",
    "for degree, color in zip(degrees, colors):\n",
    "    poly = PolynomialFeatures(degree=degree)\n",
    "    X_poly = poly.fit_transform(X)\n",
    "    x_range_poly = poly.transform(x_range)\n",
    "    \n",
    "    model = LinearRegression()\n",
    "    model.fit(X_poly, y)\n",
    "    \n",
    "    y_pred_plot = model.predict(x_range_poly)\n",
    "    \n",
    "    plt.plot(x_range, y_pred_plot, color=color, label=f'Degree {degree} Model')\n",
    "\n",
    "# Plot settings\n",
    "plt.title('Polynomial Regression Models (Degrees 2, 4, 8)')\n",
    "plt.xlabel('x')\n",
    "plt.ylabel('y')\n",
    "plt.legend()\n",
    "plt.grid(True)\n",
    "plt.tight_layout()\n",
    "plt.show()\n"
   ]
  },
  {
   "cell_type": "markdown",
   "metadata": {},
   "source": [
    "### Interpret Findings\n",
    "\n",
    "Based on the metrics as well as the graphs, which model do you think is the best? Why?"
   ]
  },
  {
   "cell_type": "code",
   "execution_count": 17,
   "metadata": {},
   "outputs": [],
   "source": [
    "# Your written answer here\n",
    "# The quadratic model (polynomial degree 2) is definitely not the best based on all of the evidence we have. It has the worst R-Squared, the coefficient p-values are not significant, and you can see from the graph that there is a lot of variance in the data that it is not picking up on.\n",
    "\n",
    "# Our visual inspection aligns with the worse R-Squared for the 4th degree polynomial compared to the 8th degree polynomial. The 4th degree polynomial is flatter and doesn't seem to capture the extremes of the data as well.\n",
    "    \n",
    "# However if we wanted to interpret the coefficients, then only the 4th degree polynomial has statistically significant results. The interpretation would be challenging because of the number of terms, but we could apply some calculus techniques to describe inflection points.\n",
    "\n",
    "# Overall it appears that this dataset is not particularly well suited to an inferential linear regression approach, even with polynomial transformations. So the \"best\" model could be either the 4th or 8th degree polynomial depending on which aspect of the model is more important to you, but either way it will be challenging to translate it into insights for stakeholders."
   ]
  },
  {
   "cell_type": "markdown",
   "metadata": {},
   "source": [
    "<details>\n",
    "    <summary style=\"cursor: pointer\"><b>Answer (click to reveal)</b></summary>\n",
    "    \n",
    "The quadratic model (polynomial degree 2) is definitely not the best based on all of the evidence we have. It has the worst R-Squared, the coefficient p-values are not significant, and you can see from the graph that there is a lot of variance in the data that it is not picking up on.\n",
    "\n",
    "Our visual inspection aligns with the worse R-Squared for the 4th degree polynomial compared to the 8th degree polynomial. The 4th degree polynomial is flatter and doesn't seem to capture the extremes of the data as well.\n",
    "    \n",
    "However if we wanted to interpret the coefficients, then only the 4th degree polynomial has statistically significant results. The interpretation would be challenging because of the number of terms, but we could apply some calculus techniques to describe inflection points.\n",
    "\n",
    "Overall it appears that this dataset is not particularly well suited to an inferential linear regression approach, even with polynomial transformations. So the \"best\" model could be either the 4th or 8th degree polynomial depending on which aspect of the model is more important to you, but either way it will be challenging to translate it into insights for stakeholders.\n",
    "    \n",
    "</details>"
   ]
  },
  {
   "cell_type": "markdown",
   "metadata": {},
   "source": [
    "## Summary"
   ]
  },
  {
   "cell_type": "markdown",
   "metadata": {},
   "source": [
    "Great job! You now know how to include polynomials in your linear models as well as the limitations of applying polynomial regression. "
   ]
  }
 ],
 "metadata": {
  "kernelspec": {
   "display_name": "learn-env",
   "language": "python",
   "name": "python3"
  },
  "language_info": {
   "codemirror_mode": {
    "name": "ipython",
    "version": 3
   },
   "file_extension": ".py",
   "mimetype": "text/x-python",
   "name": "python",
   "nbconvert_exporter": "python",
   "pygments_lexer": "ipython3",
   "version": "3.8.5"
  }
 },
 "nbformat": 4,
 "nbformat_minor": 2
}
